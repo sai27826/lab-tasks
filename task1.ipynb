{
  "nbformat": 4,
  "nbformat_minor": 0,
  "metadata": {
    "colab": {
      "provenance": [],
      "authorship_tag": "ABX9TyMTJFdRKvu5H8vfIdjmrCn4",
      "include_colab_link": true
    },
    "kernelspec": {
      "name": "python3",
      "display_name": "Python 3"
    },
    "language_info": {
      "name": "python"
    }
  },
  "cells": [
    {
      "cell_type": "markdown",
      "metadata": {
        "id": "view-in-github",
        "colab_type": "text"
      },
      "source": [
        "<a href=\"https://colab.research.google.com/github/sai27826/lab-tasks/blob/main/task1.ipynb\" target=\"_parent\"><img src=\"https://colab.research.google.com/assets/colab-badge.svg\" alt=\"Open In Colab\"/></a>"
      ]
    },
    {
      "cell_type": "code",
      "execution_count": 1,
      "metadata": {
        "colab": {
          "base_uri": "https://localhost:8080/"
        },
        "id": "IxASoVsm86gh",
        "outputId": "619495be-8689-433f-a9f5-22223469ca94"
      },
      "outputs": [
        {
          "output_type": "stream",
          "name": "stdout",
          "text": [
            "Enter the principal amount:10\n",
            "Enter the rate amount:20\n",
            "Enter the time in years:10\n",
            "The compound interest is: 51.917364223999975\n"
          ]
        }
      ],
      "source": [
        "p=int(input('Enter the principal amount:'))\n",
        "r=int(input('Enter the rate amount:'))\n",
        "t=int(input('Enter the time in years:'))\n",
        "CI=p*((1+r/100)**t)-p\n",
        "print('The compound interest is:',CI)\n"
      ]
    },
    {
      "cell_type": "code",
      "source": [
        "def calculate_total_cost(X,Y):\n",
        "    return X*Y\n",
        "\n",
        "t = int(input('Enter number of test cases: '))\n",
        "\n",
        "\n",
        "for _ in range(t):\n",
        "\n",
        "    X, Y = map(int, input(\"Enter weeks and cost per week: \").split())\n",
        "\n",
        "\n",
        "    total_cost = X * Y\n",
        "\n",
        "\n",
        "    print('Total amount to pay:', total_cost)\n",
        "\n",
        ""
      ],
      "metadata": {
        "colab": {
          "base_uri": "https://localhost:8080/"
        },
        "id": "L_I7d3yf9Sv9",
        "outputId": "8ddf94b6-2870-44e9-bece-2b7289b3f977"
      },
      "execution_count": 4,
      "outputs": [
        {
          "output_type": "stream",
          "name": "stdout",
          "text": [
            "Enter number of test cases: 2\n",
            "Enter weeks and cost per week: 5 300\n",
            "Total amount to pay: 1500\n",
            "Enter weeks and cost per week: 2 600\n",
            "Total amount to pay: 1200\n"
          ]
        }
      ]
    },
    {
      "cell_type": "code",
      "source": [
        "import math\n",
        "area= math.pi**2/435600\n",
        "\n",
        "radius=int(input('Enter the field radius:'))\n",
        "print(f\"Area of field is:{area:2f}acres\")\n"
      ],
      "metadata": {
        "colab": {
          "base_uri": "https://localhost:8080/"
        },
        "id": "4lgr_skw9aVg",
        "outputId": "fa55d270-5cd5-4338-9621-724964afe934"
      },
      "execution_count": 5,
      "outputs": [
        {
          "output_type": "stream",
          "name": "stdout",
          "text": [
            "Enter the field radius:500\n",
            "Area of field is:0.000023acres\n"
          ]
        }
      ]
    },
    {
      "cell_type": "code",
      "source": [
        "import math\n",
        "def calculate_distance(x1,y1,x2,y2):\n",
        "    distance= math.sqrt((x2-x1)**2+(y2-y1)**2)\n",
        "    return distance\n",
        "x_ram=int(input('Enter the x corrdinate of ram:'))\n",
        "y_ram=int(input('Enter the y coordinate of ram:'))\n",
        "x_sita=int(input('Enter the x coordinate of sita:'))\n",
        "y_sita=int(input('Enter the y coordinate of sita:'))\n",
        "distance=calculate_distance(x_ram,y_ram,x_sita,y_sita)\n",
        "print('The distance between ram and sita',distance)\n"
      ],
      "metadata": {
        "colab": {
          "base_uri": "https://localhost:8080/"
        },
        "id": "uDQK8V3B9bho",
        "outputId": "ef527887-731c-4c59-b608-3f4fdf373d50"
      },
      "execution_count": 6,
      "outputs": [
        {
          "output_type": "stream",
          "name": "stdout",
          "text": [
            "Enter the x corrdinate of ram:5\n",
            "Enter the y coordinate of ram:2\n",
            "Enter the x coordinate of sita:6\n",
            "Enter the y coordinate of sita:3\n",
            "The distance between ram and sita 1.4142135623730951\n"
          ]
        }
      ]
    }
  ]
}