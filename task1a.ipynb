{
  "nbformat": 4,
  "nbformat_minor": 0,
  "metadata": {
    "colab": {
      "provenance": [],
      "authorship_tag": "ABX9TyOUBroKXn0CozMQv0TbATRt",
      "include_colab_link": true
    },
    "kernelspec": {
      "name": "python3",
      "display_name": "Python 3"
    },
    "language_info": {
      "name": "python"
    }
  },
  "cells": [
    {
      "cell_type": "markdown",
      "metadata": {
        "id": "view-in-github",
        "colab_type": "text"
      },
      "source": [
        "<a href=\"https://colab.research.google.com/github/sai27826/lab-tasks/blob/python/task1a.ipynb\" target=\"_parent\"><img src=\"https://colab.research.google.com/assets/colab-badge.svg\" alt=\"Open In Colab\"/></a>"
      ]
    },
    {
      "cell_type": "code",
      "execution_count": null,
      "metadata": {
        "colab": {
          "base_uri": "https://localhost:8080/"
        },
        "id": "IxASoVsm86gh",
        "outputId": "619495be-8689-433f-a9f5-22223469ca94"
      },
      "outputs": [
        {
          "output_type": "stream",
          "name": "stdout",
          "text": [
            "Enter the principal amount:10\n",
            "Enter the rate amount:20\n",
            "Enter the time in years:10\n",
            "The compound interest is: 51.917364223999975\n"
          ]
        }
      ],
      "source": [
        "p=int(input('Enter the principal amount:'))\n",
        "r=int(input('Enter the rate amount:'))\n",
        "t=int(input('Enter the time in years:'))\n",
        "CI=p*((1+r/100)**t)-p\n",
        "print('The compound interest is:',CI)\n"
      ]
    }
  ]
}